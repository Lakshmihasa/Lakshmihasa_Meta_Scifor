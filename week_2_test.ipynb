{
  "nbformat": 4,
  "nbformat_minor": 0,
  "metadata": {
    "colab": {
      "provenance": [],
      "authorship_tag": "ABX9TyMDnkrCRtMBumnO8m/ie8r/",
      "include_colab_link": true
    },
    "kernelspec": {
      "name": "python3",
      "display_name": "Python 3"
    },
    "language_info": {
      "name": "python"
    }
  },
  "cells": [
    {
      "cell_type": "markdown",
      "metadata": {
        "id": "view-in-github",
        "colab_type": "text"
      },
      "source": [
        "<a href=\"https://colab.research.google.com/github/Lakshmihasa/Lakshmihasa_Meta_Scifor/blob/main/week_2_test.ipynb\" target=\"_parent\"><img src=\"https://colab.research.google.com/assets/colab-badge.svg\" alt=\"Open In Colab\"/></a>"
      ]
    },
    {
      "cell_type": "code",
      "execution_count": null,
      "metadata": {
        "id": "oN6KFpMMkCmX"
      },
      "outputs": [],
      "source": []
    },
    {
      "cell_type": "code",
      "source": [],
      "metadata": {
        "id": "Gz_QF7vYkPhO"
      },
      "execution_count": null,
      "outputs": []
    },
    {
      "cell_type": "markdown",
      "source": [
        "1) What is Encapsulation?\n",
        "\n",
        "Ans: Encapsulation is a fundamental concept in object-oriented programming that refers to the bundling of data attributes and functions that manipulate the data into a single unit called a class. This principle restricts direct access to some of an object's components, which is essential for protecting the integrity of the data.\n",
        "\n",
        "By using encapsulation, a class can hide its internal state and only expose a controlled interface to the outside world. This is typically achieved by making attributes private (prefixed with double underscores) and providing public methods (getters and setters) to access and modify those attributes. Encapsulation not only enhances security by preventing unauthorized access but also improves code maintainability and flexibility by allowing changes to the internal implementation without affecting external code. This encapsulated structure promotes modularity and helps in building robust, maintainable software systems.\n",
        "\n",
        "\n",
        "\n",
        "\n",
        "\n",
        "\n"
      ],
      "metadata": {
        "id": "TGEYhnGxkTsp"
      }
    },
    {
      "cell_type": "code",
      "source": [
        "class Employee:\n",
        "    def __init__(self, employee_id, name, position, salary):\n",
        "        self.__employee_id = employee_id\n",
        "        self.__name = name\n",
        "        self.__position = position\n",
        "        self.__salary = salary\n",
        "\n",
        "    def get_employee_id(self):\n",
        "        return self.__employee_id\n",
        "\n",
        "    def get_name(self):\n",
        "        return self.__name\n",
        "\n",
        "    def get_position(self):\n",
        "        return self.__position\n",
        "\n",
        "    def get_salary(self):\n",
        "        return self.__salary\n",
        "\n",
        "    def set_salary(self, salary):\n",
        "        if salary > 0:\n",
        "            self.__salary = salary\n",
        "        else:\n",
        "            raise ValueError(\"Salary must be positive\")\n",
        "\n",
        "    def __str__(self):\n",
        "        return f\"ID: {self.__employee_id}, Name: {self.__name}, Position: {self.__position}, Salary: ${self.__salary}\"\n",
        "\n",
        "# Example usage\n",
        "if __name__ == \"__main__\":\n",
        "    employees = []\n",
        "\n",
        "    while True:\n",
        "        action = input(\"Enter 'add', 'update', 'view', or 'exit': \").lower()\n",
        "        if action == 'add':\n",
        "            employee_id = input(\"Enter employee ID: \")\n",
        "            name = input(\"Enter employee name: \")\n",
        "            position = input(\"Enter employee position: \")\n",
        "            salary = float(input(\"Enter employee salary: \"))\n",
        "            employee = Employee(employee_id, name, position, salary)\n",
        "            employees.append(employee)\n",
        "            print(f\"Employee {name} added successfully.\")\n",
        "\n",
        "        elif action == 'update':\n",
        "            employee_id = input(\"Enter employee ID to update salary: \")\n",
        "            new_salary = float(input(\"Enter new salary: \"))\n",
        "            for employee in employees:\n",
        "                if employee.get_employee_id() == employee_id:\n",
        "                    employee.set_salary(new_salary)\n",
        "                    print(f\"Salary updated successfully for {employee.get_name()}.\")\n",
        "                    break\n",
        "            else:\n",
        "                print(\"Employee not found.\")\n",
        "\n",
        "        elif action == 'view':\n",
        "            employee_id = input(\"Enter employee ID to view details: \")\n",
        "            for employee in employees:\n",
        "                if employee.get_employee_id() == employee_id:\n",
        "                    print(employee)\n",
        "                    break\n",
        "            else:\n",
        "                print(\"Employee not found.\")\n",
        "\n",
        "        elif action == 'exit':\n",
        "            print(\"Exiting. Have a nice day!\")\n",
        "            break\n",
        "\n",
        "        else:\n",
        "            print(\"Invalid action. Please enter 'add', 'update', 'view', or 'exit'.\")\n",
        "\n"
      ],
      "metadata": {
        "colab": {
          "base_uri": "https://localhost:8080/"
        },
        "id": "mR1bnwwqmnSj",
        "outputId": "6463b031-ea3e-470b-e66f-dfc9904c7f66"
      },
      "execution_count": 2,
      "outputs": [
        {
          "output_type": "stream",
          "name": "stdout",
          "text": [
            "Enter 'add', 'update', 'view', or 'exit': add\n",
            "Enter employee ID: 123\n",
            "Enter employee name: hasa\n",
            "Enter employee position: data analyst\n",
            "Enter employee salary: 75000\n",
            "Employee hasa added successfully.\n",
            "Enter 'add', 'update', 'view', or 'exit': view\n",
            "Enter employee ID to view details: 123\n",
            "ID: 123, Name: hasa, Position: data analyst, Salary: $75000.0\n",
            "Enter 'add', 'update', 'view', or 'exit': exit\n",
            "Exiting. Have a nice day!\n"
          ]
        }
      ]
    },
    {
      "cell_type": "code",
      "source": [
        "class Patient:\n",
        "    def __init__(self, name, age):\n",
        "        self.__name = name\n",
        "        self.__age = age\n",
        "        self.__medical_history = []\n",
        "\n",
        "    def get_name(self):\n",
        "        return self.__name\n",
        "    def get_age(self):\n",
        "        return self.__age\n",
        "\n",
        "    def add_medical_record(self, record):\n",
        "        self.__medical_history.append(record)\n",
        "\n",
        "    def get_medical_history(self):\n",
        "        return self.__medical_history\n",
        "\n",
        "# Example usage\n",
        "if __name__ == \"__main__\":\n",
        "    name = input(\"Enter the patient's name: \")\n",
        "    age = int(input(\"Enter the patient's age: \"))\n",
        "    patient = Patient(name, age)\n",
        "\n",
        "    print(f\"Patient Name: {patient.get_name()}\")\n",
        "    print(f\"Patient Age: {patient.get_age()}\")\n",
        "\n",
        "    while True:\n",
        "        action = input(\"Enter 'add' to add a medical record, 'view' to view medical history, or 'exit' to exit: \").lower()\n",
        "        if action == 'add':\n",
        "            record = input(\"Enter the medical record to add: \")\n",
        "            patient.add_medical_record(record)\n",
        "            print(\"Medical record added successfully.\")\n",
        "        elif action == 'view':\n",
        "            print(\"Medical History:\")\n",
        "            for record in patient.get_medical_history():\n",
        "                print(record)\n",
        "        elif action == 'exit':\n",
        "            print(\"Exiting. Have a nice day!\")\n",
        "            break\n",
        "        else:\n",
        "            print(\"Invalid action. Please enter 'add', 'view', or 'exit'.\")\n"
      ],
      "metadata": {
        "colab": {
          "base_uri": "https://localhost:8080/"
        },
        "id": "Y7ODevMApea-",
        "outputId": "f3a8169a-afe8-4094-8dfc-171deab5eb6d"
      },
      "execution_count": 3,
      "outputs": [
        {
          "output_type": "stream",
          "name": "stdout",
          "text": [
            "Enter the patient's name: neeraj\n",
            "Enter the patient's age: 20\n",
            "Enter 'add' to add a medical record, 'view' to view medical history, or 'exit' to exit: add\n",
            "Patient Name: neeraj\n",
            "Patient Age: 20\n",
            "Enter the medical record to add: fever\n",
            "Medical record added successfully.\n",
            "Enter 'add' to add a medical record, 'view' to view medical history, or 'exit' to exit: view\n",
            "Medical History:\n",
            "fever\n",
            "Enter 'add' to add a medical record, 'view' to view medical history, or 'exit' to exit: exit\n",
            "Exiting. Have a nice day!\n"
          ]
        }
      ]
    },
    {
      "cell_type": "markdown",
      "source": [
        "## Real life usage of Encapsulation\n",
        "\n",
        "The provided code defines a `Patient` class that keeps patient information private, including their name, age, and medical history. It uses special methods to safely access and update this information. The main script allows the user to add new medical records, view the patient's medical history, and exit the program. This setup ensures that patient data is managed securely and conveniently."
      ],
      "metadata": {
        "id": "OHEDPcABr4sI"
      }
    }
  ]
}