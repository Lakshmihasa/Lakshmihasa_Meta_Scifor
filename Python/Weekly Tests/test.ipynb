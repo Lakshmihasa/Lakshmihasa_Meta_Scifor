{
  "nbformat": 4,
  "nbformat_minor": 0,
  "metadata": {
    "colab": {
      "provenance": [],
      "authorship_tag": "ABX9TyOQ6RK9pGB6bpINkVEawubN",
      "include_colab_link": true
    },
    "kernelspec": {
      "name": "python3",
      "display_name": "Python 3"
    },
    "language_info": {
      "name": "python"
    }
  },
  "cells": [
    {
      "cell_type": "markdown",
      "metadata": {
        "id": "view-in-github",
        "colab_type": "text"
      },
      "source": [
        "<a href=\"https://colab.research.google.com/github/Lakshmihasa/Lakshmihasa_Meta_Scifor/blob/main/test.ipynb\" target=\"_parent\"><img src=\"https://colab.research.google.com/assets/colab-badge.svg\" alt=\"Open In Colab\"/></a>"
      ]
    },
    {
      "cell_type": "code",
      "execution_count": 1,
      "metadata": {
        "colab": {
          "base_uri": "https://localhost:8080/"
        },
        "id": "Do75njBmLFt5",
        "outputId": "dc9a2030-bfb3-4273-ad15-15f8c3c67b44"
      },
      "outputs": [
        {
          "output_type": "stream",
          "name": "stdout",
          "text": [
            "A Labrador is a type of dog\n",
            "A dog mammal says woof\n",
            "A Siamese is a type of cat\n",
            "A cat mammal says meow\n",
            "A parrot bird says squawk\n"
          ]
        }
      ],
      "source": [
        "#levels of inheritance\n",
        "# Base class\n",
        "class Animal:\n",
        "    def __init__(self, species):\n",
        "        self.species = species\n",
        "\n",
        "    def speak(self):\n",
        "        raise NotImplementedError(\"Subclass must implement abstract method\")\n",
        "\n",
        "# Level 1: Inheritance from Animal\n",
        "class Mammal(Animal):\n",
        "    def __init__(self, species, sound):\n",
        "        super().__init__(species)\n",
        "        self.sound = sound\n",
        "\n",
        "    def speak(self):\n",
        "        return f\"A {self.species} mammal says {self.sound}\"\n",
        "\n",
        "# Level 2: Inheritance from Mammal\n",
        "class Dog(Mammal):\n",
        "    def __init__(self, breed):\n",
        "        super().__init__(\"dog\", \"woof\")\n",
        "        self.breed = breed\n",
        "\n",
        "    def describe(self):\n",
        "        return f\"A {self.breed} is a type of {self.species}\"\n",
        "\n",
        "# Level 2: Inheritance from Mammal\n",
        "class Cat(Mammal):\n",
        "    def __init__(self, breed):\n",
        "        super().__init__(\"cat\", \"meow\")\n",
        "        self.breed = breed\n",
        "\n",
        "    def describe(self):\n",
        "        return f\"A {self.breed} is a type of {self.species}\"\n",
        "\n",
        "# Level 1: Inheritance from Animal\n",
        "class Bird(Animal):\n",
        "    def __init__(self, species, sound):\n",
        "        super().__init__(species)\n",
        "        self.sound = sound\n",
        "\n",
        "    def speak(self):\n",
        "        return f\"A {self.species} bird says {self.sound}\"\n",
        "\n",
        "# Level 2: Inheritance from Bird\n",
        "class Parrot(Bird):\n",
        "    def __init__(self):\n",
        "        super().__init__(\"parrot\", \"squawk\")\n",
        "\n",
        "# Test the classes\n",
        "if __name__ == \"__main__\":\n",
        "    dog = Dog(\"Labrador\")\n",
        "    print(dog.describe())\n",
        "    print(dog.speak())\n",
        "\n",
        "    cat = Cat(\"Siamese\")\n",
        "    print(cat.describe())\n",
        "    print(cat.speak())\n",
        "\n",
        "    parrot = Parrot()\n",
        "    print(parrot.speak())\n"
      ]
    },
    {
      "cell_type": "code",
      "source": [
        "# code for method overloading\n",
        "class Calculator:\n",
        "    def add(self, a=None, b=None):\n",
        "        if a is not None and b is not None:\n",
        "            return a + b\n",
        "        elif a is not None:\n",
        "            return a\n",
        "        else:\n",
        "            return 0\n",
        "\n",
        "calc = Calculator()\n",
        "\n",
        "# Test different scenarios\n",
        "print(calc.add())\n",
        "print(calc.add(5))\n",
        "print(calc.add(2, 3))\n"
      ],
      "metadata": {
        "colab": {
          "base_uri": "https://localhost:8080/"
        },
        "id": "JYjftOWVLZ6n",
        "outputId": "c6220ea4-1d44-473f-8f6f-eb89b50aac9c"
      },
      "execution_count": 2,
      "outputs": [
        {
          "output_type": "stream",
          "name": "stdout",
          "text": [
            "0\n",
            "5\n",
            "5\n"
          ]
        }
      ]
    },
    {
      "cell_type": "code",
      "source": [
        "# Base class\n",
        "class Animal:\n",
        "    def sound(self):\n",
        "        return \"Some generic sound\"\n",
        "\n",
        "# Derived class (subclass)\n",
        "class Dog(Animal):\n",
        "    def sound(self):\n",
        "        return \"Bark bark!\"\n",
        "\n",
        "# Derived class (subclass)\n",
        "class Cat(Animal):\n",
        "    def sound(self):\n",
        "        return \"Meow meow!\"\n",
        "\n",
        "# Test the classes\n",
        "if __name__ == \"__main__\":\n",
        "    animal = Animal()\n",
        "    print(animal.sound())\n",
        "\n",
        "    dog = Dog()\n",
        "    print(dog.sound())\n",
        "\n",
        "    cat = Cat()\n",
        "    print(cat.sound())\n"
      ],
      "metadata": {
        "colab": {
          "base_uri": "https://localhost:8080/"
        },
        "id": "JD9i32UcL2TU",
        "outputId": "bbff7f60-1e14-497e-e1d4-b60c2f3bf883"
      },
      "execution_count": 3,
      "outputs": [
        {
          "output_type": "stream",
          "name": "stdout",
          "text": [
            "Some generic sound\n",
            "Bark bark!\n",
            "Meow meow!\n"
          ]
        }
      ]
    }
  ]
}